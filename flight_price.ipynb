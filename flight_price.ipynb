{
 "cells": [
  {
   "cell_type": "code",
   "execution_count": null,
   "metadata": {},
   "outputs": [],
   "source": [
    "%matplotlib inline\n",
    "import pandas as pd\n",
    "import numpy as np\n",
    "import matplotlib.pyplot as plt\n",
    "import seaborn as sns"
   ]
  },
  {
   "cell_type": "code",
   "execution_count": null,
   "metadata": {},
   "outputs": [],
   "source": [
    "flight_train=pd.read_excel(\"//Users//raj//Projects//Sourcefiles//Datasets//flight_data//flight_train.xlsx\")\n",
    "flight_test=pd.read_excel(\"//Users//raj//Projects//Sourcefiles//Datasets//flight_data//flight_test.xlsx\")"
   ]
  },
  {
   "cell_type": "code",
   "execution_count": null,
   "metadata": {},
   "outputs": [],
   "source": [
    "# Combining the two datasets into a single dataframe \n",
    "flight_df=flight_train.append(flight_test)\n",
    "#  Ignore the append, concat warning"
   ]
  },
  {
   "cell_type": "code",
   "execution_count": null,
   "metadata": {},
   "outputs": [],
   "source": [
    "#Date_Of_Journey is in string format, which needs to be converted to datetime format\n",
    "# We shall extract Date, Month and Year from the column \n",
    "flight_df['Date']=flight_df['Date_of_Journey'].str.split('/').str[0]\n",
    "flight_df['Month']= flight_df['Date_of_Journey'].str.split('/').str[1]\n",
    "flight_df['Year']=flight_df['Date_of_Journey'].str.split('/').str[2]\n",
    "\n",
    "'''''\n",
    "We can also use the lambda function to create date, month and year splits\n",
    "\n",
    "flight_df[\"Date\"]=flight_df['Date_of_Journey'].apply(lambda x:x.split(\"/\")[0])\n",
    "flight_df[\"Month\"]=flight_df['Date_of_Journey'].apply(lambda x:x.split(\"/\")[1])\n",
    "flight_df[\"Year\"]=flight_df['Date_of_Journey'].apply(lambda x:x.split(\"/\")[2])\n",
    "\n",
    "'''''"
   ]
  },
  {
   "cell_type": "code",
   "execution_count": null,
   "metadata": {},
   "outputs": [],
   "source": [
    "# Now type cast the columns, Date, month and year as int data type\n",
    "flight_df.Date=flight_df.Date.astype(int)\n",
    "flight_df.Month=flight_df.Month.astype(int)\n",
    "flight_df.Year=flight_df.Year.astype(int)\n",
    "flight_df.info()"
   ]
  },
  {
   "cell_type": "code",
   "execution_count": null,
   "metadata": {},
   "outputs": [],
   "source": [
    "# Now dropping the Date_of_Journey column\n",
    "flight_df.drop('Date_of_Journey',axis=1,inplace=True)"
   ]
  },
  {
   "cell_type": "code",
   "execution_count": 31,
   "metadata": {},
   "outputs": [],
   "source": [
    "# Handling the feature 'Arrival_ Time'\n",
    "# Few records have Date in the arrival tim few records do not . we need to make it uniform and remove the Date \n",
    "flight_df['Arrival_Time'] = flight_df.Arrival_Time.str.split(' ').str[0]"
   ]
  },
  {
   "cell_type": "code",
   "execution_count": 32,
   "metadata": {},
   "outputs": [
    {
     "data": {
      "text/html": [
       "<div>\n",
       "<style scoped>\n",
       "    .dataframe tbody tr th:only-of-type {\n",
       "        vertical-align: middle;\n",
       "    }\n",
       "\n",
       "    .dataframe tbody tr th {\n",
       "        vertical-align: top;\n",
       "    }\n",
       "\n",
       "    .dataframe thead th {\n",
       "        text-align: right;\n",
       "    }\n",
       "</style>\n",
       "<table border=\"1\" class=\"dataframe\">\n",
       "  <thead>\n",
       "    <tr style=\"text-align: right;\">\n",
       "      <th></th>\n",
       "      <th>Airline</th>\n",
       "      <th>Source</th>\n",
       "      <th>Destination</th>\n",
       "      <th>Route</th>\n",
       "      <th>Dep_Time</th>\n",
       "      <th>Arrival_Time</th>\n",
       "      <th>Duration</th>\n",
       "      <th>Total_Stops</th>\n",
       "      <th>Additional_Info</th>\n",
       "      <th>Price</th>\n",
       "      <th>Date</th>\n",
       "      <th>Month</th>\n",
       "      <th>Year</th>\n",
       "    </tr>\n",
       "  </thead>\n",
       "  <tbody>\n",
       "    <tr>\n",
       "      <th>0</th>\n",
       "      <td>IndiGo</td>\n",
       "      <td>Banglore</td>\n",
       "      <td>New Delhi</td>\n",
       "      <td>BLR → DEL</td>\n",
       "      <td>22:20</td>\n",
       "      <td>01:10</td>\n",
       "      <td>2h 50m</td>\n",
       "      <td>non-stop</td>\n",
       "      <td>No info</td>\n",
       "      <td>3897.0</td>\n",
       "      <td>24</td>\n",
       "      <td>3</td>\n",
       "      <td>2019</td>\n",
       "    </tr>\n",
       "    <tr>\n",
       "      <th>1</th>\n",
       "      <td>Air India</td>\n",
       "      <td>Kolkata</td>\n",
       "      <td>Banglore</td>\n",
       "      <td>CCU → IXR → BBI → BLR</td>\n",
       "      <td>05:50</td>\n",
       "      <td>13:15</td>\n",
       "      <td>7h 25m</td>\n",
       "      <td>2 stops</td>\n",
       "      <td>No info</td>\n",
       "      <td>7662.0</td>\n",
       "      <td>1</td>\n",
       "      <td>5</td>\n",
       "      <td>2019</td>\n",
       "    </tr>\n",
       "    <tr>\n",
       "      <th>2</th>\n",
       "      <td>Jet Airways</td>\n",
       "      <td>Delhi</td>\n",
       "      <td>Cochin</td>\n",
       "      <td>DEL → LKO → BOM → COK</td>\n",
       "      <td>09:25</td>\n",
       "      <td>04:25</td>\n",
       "      <td>19h</td>\n",
       "      <td>2 stops</td>\n",
       "      <td>No info</td>\n",
       "      <td>13882.0</td>\n",
       "      <td>9</td>\n",
       "      <td>6</td>\n",
       "      <td>2019</td>\n",
       "    </tr>\n",
       "    <tr>\n",
       "      <th>3</th>\n",
       "      <td>IndiGo</td>\n",
       "      <td>Kolkata</td>\n",
       "      <td>Banglore</td>\n",
       "      <td>CCU → NAG → BLR</td>\n",
       "      <td>18:05</td>\n",
       "      <td>23:30</td>\n",
       "      <td>5h 25m</td>\n",
       "      <td>1 stop</td>\n",
       "      <td>No info</td>\n",
       "      <td>6218.0</td>\n",
       "      <td>12</td>\n",
       "      <td>5</td>\n",
       "      <td>2019</td>\n",
       "    </tr>\n",
       "    <tr>\n",
       "      <th>4</th>\n",
       "      <td>IndiGo</td>\n",
       "      <td>Banglore</td>\n",
       "      <td>New Delhi</td>\n",
       "      <td>BLR → NAG → DEL</td>\n",
       "      <td>16:50</td>\n",
       "      <td>21:35</td>\n",
       "      <td>4h 45m</td>\n",
       "      <td>1 stop</td>\n",
       "      <td>No info</td>\n",
       "      <td>13302.0</td>\n",
       "      <td>1</td>\n",
       "      <td>3</td>\n",
       "      <td>2019</td>\n",
       "    </tr>\n",
       "  </tbody>\n",
       "</table>\n",
       "</div>"
      ],
      "text/plain": [
       "       Airline    Source Destination                  Route Dep_Time  \\\n",
       "0       IndiGo  Banglore   New Delhi              BLR → DEL    22:20   \n",
       "1    Air India   Kolkata    Banglore  CCU → IXR → BBI → BLR    05:50   \n",
       "2  Jet Airways     Delhi      Cochin  DEL → LKO → BOM → COK    09:25   \n",
       "3       IndiGo   Kolkata    Banglore        CCU → NAG → BLR    18:05   \n",
       "4       IndiGo  Banglore   New Delhi        BLR → NAG → DEL    16:50   \n",
       "\n",
       "  Arrival_Time Duration Total_Stops Additional_Info    Price  Date  Month  \\\n",
       "0        01:10   2h 50m    non-stop         No info   3897.0    24      3   \n",
       "1        13:15   7h 25m     2 stops         No info   7662.0     1      5   \n",
       "2        04:25      19h     2 stops         No info  13882.0     9      6   \n",
       "3        23:30   5h 25m      1 stop         No info   6218.0    12      5   \n",
       "4        21:35   4h 45m      1 stop         No info  13302.0     1      3   \n",
       "\n",
       "   Year  \n",
       "0  2019  \n",
       "1  2019  \n",
       "2  2019  \n",
       "3  2019  \n",
       "4  2019  "
      ]
     },
     "execution_count": 32,
     "metadata": {},
     "output_type": "execute_result"
    }
   ],
   "source": [
    "flight_df.head()"
   ]
  },
  {
   "cell_type": "code",
   "execution_count": 38,
   "metadata": {},
   "outputs": [],
   "source": [
    "# Splitting into Arrival Hour and minute\n",
    "flight_df['Arrival_hour']=flight_df.Arrival_Time.str.split(\":\").str[0] # Using a function\n",
    "flight_df['Arrival_min']=flight_df['Arrival_Time'].apply(lambda x:x.split(':')[1])"
   ]
  },
  {
   "cell_type": "code",
   "execution_count": 40,
   "metadata": {},
   "outputs": [],
   "source": [
    "# Typecasting the data as integer\n",
    "flight_df.Arrival_hour=flight_df.Arrival_hour.astype(int)\n",
    "flight_df.Arrival_min=flight_df.Arrival_min.astype(int)\n",
    "#dropping the 'Arrival_Time column\n",
    "flight_df.drop('Arrival_Time',axis=1,inplace=True)"
   ]
  },
  {
   "cell_type": "code",
   "execution_count": 45,
   "metadata": {},
   "outputs": [],
   "source": [
    "# Applying the above for Departure Time\n",
    "flight_df.Dep_Time.str.len().max() # Checking the maximum width of the column to enusre if there is any data mentioned anywhere\n",
    "# The Max length returned is 5 . So there is no record with Date mentioned\n",
    "flight_df['Dep_hour']=flight_df.Dep_Time.str.split(':').str[0]\n",
    "flight_df['Dep_min']=flight_df['Dep_Time  '].apply(lambda x:x.split(':')[1])\n",
    "flight_df.Dep_hour=flight_df.Dep_hour.astype(int)\n",
    "flight_df.Dep_min=flight_df.Dep_min.astype(int)\n",
    "flight_df.drop('Dep_Time',axis=1,inplace=True)"
   ]
  },
  {
   "cell_type": "code",
   "execution_count": 46,
   "metadata": {},
   "outputs": [
    {
     "name": "stdout",
     "output_type": "stream",
     "text": [
      "<class 'pandas.core.frame.DataFrame'>\n",
      "Int64Index: 13354 entries, 0 to 2670\n",
      "Data columns (total 15 columns):\n",
      " #   Column           Non-Null Count  Dtype  \n",
      "---  ------           --------------  -----  \n",
      " 0   Airline          13354 non-null  object \n",
      " 1   Source           13354 non-null  object \n",
      " 2   Destination      13354 non-null  object \n",
      " 3   Route            13353 non-null  object \n",
      " 4   Duration         13354 non-null  object \n",
      " 5   Total_Stops      13353 non-null  object \n",
      " 6   Additional_Info  13354 non-null  object \n",
      " 7   Price            10683 non-null  float64\n",
      " 8   Date             13354 non-null  int64  \n",
      " 9   Month            13354 non-null  int64  \n",
      " 10  Year             13354 non-null  int64  \n",
      " 11  Arrival_hour     13354 non-null  int64  \n",
      " 12  Arrival_min      13354 non-null  int64  \n",
      " 13  Dep_hour         13354 non-null  int64  \n",
      " 14  Dep_min          13354 non-null  int64  \n",
      "dtypes: float64(1), int64(7), object(7)\n",
      "memory usage: 2.1+ MB\n"
     ]
    }
   ],
   "source": [
    "flight_df.info()"
   ]
  },
  {
   "cell_type": "code",
   "execution_count": 47,
   "metadata": {},
   "outputs": [
    {
     "data": {
      "text/plain": [
       "array(['non-stop', '2 stops', '1 stop', '3 stops', nan, '4 stops'],\n",
       "      dtype=object)"
      ]
     },
     "execution_count": 47,
     "metadata": {},
     "output_type": "execute_result"
    }
   ],
   "source": [
    "flight_df.Total_Stops.unique()"
   ]
  },
  {
   "cell_type": "code",
   "execution_count": 48,
   "metadata": {},
   "outputs": [],
   "source": [
    "# Handling the Feature 'Route'\n",
    "# We Observe that we ave Source and Destination marked in seperate columns already and  There is number of stops column as well. So mapping the number first\n",
    "flight_df['Total_Stops']=flight_df['Total_Stops'].map({'non-stop':0,'1 stop':1,'2 stops':2,'3 stops':3,'4 stops':4})"
   ]
  },
  {
   "cell_type": "code",
   "execution_count": 37,
   "metadata": {},
   "outputs": [
    {
     "data": {
      "text/plain": [
       "Route             1\n",
       "Total_Stops       1\n",
       "Price          2671\n",
       "dtype: int64"
      ]
     },
     "execution_count": 37,
     "metadata": {},
     "output_type": "execute_result"
    }
   ],
   "source": [
    "# Check for the Null values if any in a column \n",
    "flight_df[flight_df.columns[flight_df.isnull().any()]].isnull().sum()\n"
   ]
  },
  {
   "cell_type": "code",
   "execution_count": 50,
   "metadata": {},
   "outputs": [
    {
     "data": {
      "text/plain": [
       "Price    2671\n",
       "dtype: int64"
      ]
     },
     "execution_count": 50,
     "metadata": {},
     "output_type": "execute_result"
    }
   ],
   "source": [
    "flight_df.dropna(subset=['Total_Stops'],inplace=True) #Dropping the Nan Row from the Total Stops Columns\n",
    "flight_df[flight_df.columns[flight_df.isnull().any()]].isnull().sum() # Check if Further NA values exist"
   ]
  },
  {
   "cell_type": "code",
   "execution_count": 51,
   "metadata": {},
   "outputs": [],
   "source": [
    "# Now drop the 'Route' Column\n",
    "flight_df.drop('Route',axis=1,inplace=True)"
   ]
  },
  {
   "cell_type": "code",
   "execution_count": 102,
   "metadata": {},
   "outputs": [
    {
     "data": {
      "text/plain": [
       "0    2h 50m\n",
       "1    7h 25m\n",
       "2       19h\n",
       "Name: Duration, dtype: object"
      ]
     },
     "execution_count": 102,
     "metadata": {},
     "output_type": "execute_result"
    }
   ],
   "source": [
    "flight_df.Duration.head(3)"
   ]
  },
  {
   "cell_type": "code",
   "execution_count": 104,
   "metadata": {},
   "outputs": [],
   "source": [
    "flight_df['Dur']=flight_df['Duration'].str.replace(\"h\",\"*60\").str.replace(' ',\"+\").str.replace('m','*1').apply(eval)"
   ]
  },
  {
   "cell_type": "code",
   "execution_count": 114,
   "metadata": {},
   "outputs": [],
   "source": [
    "flight_df.describe() # Running the describe function to check the values.\n",
    "# It is found that two records have data 5 minutes for a 2 stop flight between Hyderabad and Mumbai. \n",
    "# Dropping those rows\n",
    "\n",
    "flight_df.drop((flight_df[flight_df['Dur']==5]).index,inplace=True)"
   ]
  },
  {
   "cell_type": "code",
   "execution_count": 115,
   "metadata": {},
   "outputs": [],
   "source": [
    "flight_df['Duration']=flight_df['Dur']\n",
    "flight_df.drop('Dur',axis=1,inplace=True)"
   ]
  },
  {
   "cell_type": "code",
   "execution_count": 118,
   "metadata": {},
   "outputs": [],
   "source": [
    "flight_df.Airline.unique() # Get the list of  Unique Airlines \n",
    "# Now Label encode the Airline \n",
    "from sklearn.preprocessing import LabelEncoder\n",
    "lc=LabelEncoder()\n",
    "flight_df.Airline=lc.fit_transform(flight_df.Airline)\n",
    "flight_df.Source=lc.fit_transform(flight_df.Source)\n",
    "flight_df.Destination=lc.fit_transform(flight_df.Destination)\n",
    "flight_df.Additional_Info=lc.fit_transform(flight_df.Additional_Info)\n",
    "\n",
    "'''\n",
    "We can Also try\n",
    "d.get_dummies(flight_df,columns=[\"Airline\", \"Source\", \"Destination\"] ,drop_first = True)\n",
    "'''"
   ]
  },
  {
   "cell_type": "code",
   "execution_count": 119,
   "metadata": {},
   "outputs": [
    {
     "data": {
      "text/html": [
       "<div>\n",
       "<style scoped>\n",
       "    .dataframe tbody tr th:only-of-type {\n",
       "        vertical-align: middle;\n",
       "    }\n",
       "\n",
       "    .dataframe tbody tr th {\n",
       "        vertical-align: top;\n",
       "    }\n",
       "\n",
       "    .dataframe thead th {\n",
       "        text-align: right;\n",
       "    }\n",
       "</style>\n",
       "<table border=\"1\" class=\"dataframe\">\n",
       "  <thead>\n",
       "    <tr style=\"text-align: right;\">\n",
       "      <th></th>\n",
       "      <th>Airline</th>\n",
       "      <th>Source</th>\n",
       "      <th>Destination</th>\n",
       "      <th>Duration</th>\n",
       "      <th>Total_Stops</th>\n",
       "      <th>Additional_Info</th>\n",
       "      <th>Price</th>\n",
       "      <th>Date</th>\n",
       "      <th>Month</th>\n",
       "      <th>Year</th>\n",
       "      <th>Arrival_hour</th>\n",
       "      <th>Arrival_min</th>\n",
       "      <th>Dep_hour</th>\n",
       "      <th>Dep_min</th>\n",
       "      <th>Duration_min</th>\n",
       "    </tr>\n",
       "  </thead>\n",
       "  <tbody>\n",
       "    <tr>\n",
       "      <th>0</th>\n",
       "      <td>3</td>\n",
       "      <td>0</td>\n",
       "      <td>5</td>\n",
       "      <td>170</td>\n",
       "      <td>0.0</td>\n",
       "      <td>8</td>\n",
       "      <td>3897.0</td>\n",
       "      <td>24</td>\n",
       "      <td>3</td>\n",
       "      <td>2019</td>\n",
       "      <td>1</td>\n",
       "      <td>10</td>\n",
       "      <td>2</td>\n",
       "      <td>20</td>\n",
       "      <td>170</td>\n",
       "    </tr>\n",
       "    <tr>\n",
       "      <th>1</th>\n",
       "      <td>1</td>\n",
       "      <td>3</td>\n",
       "      <td>0</td>\n",
       "      <td>445</td>\n",
       "      <td>2.0</td>\n",
       "      <td>8</td>\n",
       "      <td>7662.0</td>\n",
       "      <td>1</td>\n",
       "      <td>5</td>\n",
       "      <td>2019</td>\n",
       "      <td>13</td>\n",
       "      <td>15</td>\n",
       "      <td>0</td>\n",
       "      <td>50</td>\n",
       "      <td>445</td>\n",
       "    </tr>\n",
       "    <tr>\n",
       "      <th>2</th>\n",
       "      <td>4</td>\n",
       "      <td>2</td>\n",
       "      <td>1</td>\n",
       "      <td>1140</td>\n",
       "      <td>2.0</td>\n",
       "      <td>8</td>\n",
       "      <td>13882.0</td>\n",
       "      <td>9</td>\n",
       "      <td>6</td>\n",
       "      <td>2019</td>\n",
       "      <td>4</td>\n",
       "      <td>25</td>\n",
       "      <td>0</td>\n",
       "      <td>25</td>\n",
       "      <td>60</td>\n",
       "    </tr>\n",
       "  </tbody>\n",
       "</table>\n",
       "</div>"
      ],
      "text/plain": [
       "   Airline  Source  Destination  Duration  Total_Stops  Additional_Info  \\\n",
       "0        3       0            5       170          0.0                8   \n",
       "1        1       3            0       445          2.0                8   \n",
       "2        4       2            1      1140          2.0                8   \n",
       "\n",
       "     Price  Date  Month  Year  Arrival_hour  Arrival_min  Dep_hour  Dep_min  \\\n",
       "0   3897.0    24      3  2019             1           10         2       20   \n",
       "1   7662.0     1      5  2019            13           15         0       50   \n",
       "2  13882.0     9      6  2019             4           25         0       25   \n",
       "\n",
       "   Duration_min  \n",
       "0           170  \n",
       "1           445  \n",
       "2            60  "
      ]
     },
     "execution_count": 119,
     "metadata": {},
     "output_type": "execute_result"
    }
   ],
   "source": [
    "flight_df.head(3)"
   ]
  }
 ],
 "metadata": {
  "interpreter": {
   "hash": "7a98e39f834af7be931ffcba514304df7d7aeaf3c09176cf62ce519c9827b068"
  },
  "kernelspec": {
   "display_name": "Python 3.8.5 ('base')",
   "language": "python",
   "name": "python3"
  },
  "language_info": {
   "codemirror_mode": {
    "name": "ipython",
    "version": 3
   },
   "file_extension": ".py",
   "mimetype": "text/x-python",
   "name": "python",
   "nbconvert_exporter": "python",
   "pygments_lexer": "ipython3",
   "version": "3.8.5"
  },
  "orig_nbformat": 4
 },
 "nbformat": 4,
 "nbformat_minor": 2
}
